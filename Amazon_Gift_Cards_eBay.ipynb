{
 "cells": [
  {
   "cell_type": "markdown",
   "id": "84cfda2b",
   "metadata": {},
   "source": [
    "This project analyzes the percentage of amazon gift cards on ebay which are sold above face value. I am using python's beautiful soup library to scrape amazon gift cards ebay.com. For the sake of this project, I have used first 10 pages of amazon gift cards on ebay. "
   ]
  },
  {
   "cell_type": "code",
   "execution_count": null,
   "id": "7a039e48",
   "metadata": {},
   "outputs": [],
   "source": [
    "from bs4 import BeautifulSoup\n",
    "import requests\n",
    "import re\n",
    "import os\n",
    "import csv\n",
    "import pandas"
   ]
  },
  {
   "cell_type": "code",
   "execution_count": null,
   "id": "c71d0314",
   "metadata": {},
   "outputs": [],
   "source": [
    "#Function to save the page to files\n",
    "def saveString(html, filename):\n",
    "    try:\n",
    "        file = open(filename,\"w\",encoding='utf-8')\n",
    "        file.write(str(html))\n",
    "        file.close()\n",
    "    except Exception as ex:\n",
    "        print('Error: ' + str(ex))\n"
   ]
  },
  {
   "cell_type": "code",
   "execution_count": null,
   "id": "f1eea4c1",
   "metadata": {},
   "outputs": [],
   "source": [
    "#Save the first search result page from ebay\n",
    "list_of_urls=[]\n",
    "url= \"https://www.ebay.com/sch/i.html?_nkw=amazon+gift+card&LH_Sold=1\"\n",
    "headers = {'User-Agent': 'Mozilla/5.0'}\n",
    "page = requests.get(url,headers=headers)\n",
    "soup = BeautifulSoup(page.text, 'lxml')\n",
    "\n",
    "saveString(soup,'amazon_gift_card_01.htm')\n"
   ]
  },
  {
   "cell_type": "code",
   "execution_count": null,
   "id": "8b0f00ee",
   "metadata": {},
   "outputs": [],
   "source": [
    "#Function to load the saved page from disk\n",
    "def loadString(f):\n",
    "        html = open(f, \"r\").read()\n",
    "        return(html)"
   ]
  },
  {
   "cell_type": "code",
   "execution_count": null,
   "id": "ed2a66d1",
   "metadata": {},
   "outputs": [],
   "source": [
    "#Downloading first 10 pages\n",
    "a=\"amazon_gift_card_\"\n",
    "from bs4 import BeautifulSoup\n",
    "import requests\n",
    "for num in range(1,11):\n",
    "    x=\"https://www.ebay.com/sch/i.html?_nkw=amazon+gift+card&LH_Sold=1&_pgn=\"\n",
    "    url= x+str(num)\n",
    "    headers = {'User-Agent': 'Mozilla/5.0'}\n",
    "    page = requests.get(url,headers=headers,timeout=10)\n",
    "    soup = BeautifulSoup(page.text, 'lxml')\n",
    "    b=a+str(num)+\".html\"\n",
    "    saveString(soup,b)\n"
   ]
  },
  {
   "cell_type": "code",
   "execution_count": null,
   "id": "ba03f7dc",
   "metadata": {},
   "outputs": [],
   "source": [
    "#Loop through the downloaded pages and print title, price and shipping price\n",
    "\n",
    "counter=0\n",
    "part1=\"amazon_gift_card_\"\n",
    "part2=\".html\"\n",
    "for name in range(1,11):\n",
    "    file_num=part1+str(name)+part2\n",
    "    with open(file_num,'r',encoding='utf-8') as a:   \n",
    "        mylist.append(a.read())\n",
    "        soup = BeautifulSoup(mylist[0], 'lxml')\n",
    "        list_of_contents=soup.findAll('div',attrs= {\"class\" : \"s-item__info clearfix\"})\n",
    "    for i in range(1,61):\n",
    "            counter+=1\n",
    "            print(counter)\n",
    "            \n",
    "            #Get title of gift card\n",
    "            title=list_of_contents[i].find('div',attrs={\"class\":\"s-item__title\"})\n",
    "            if (re.findall(\".*\\\\$([0-9]*).*\", str(title.text))):\n",
    "                title_price+=(re.findall(\".*\\\\$([0-9]*).*\", str(title.text)))\n",
    "            else:\n",
    "                title_price+='0'\n",
    "            print(\"Title: \"+(title.text))\n",
    "            titles.append(title.text)\n",
    "            \n",
    "            #Get price of gift card\n",
    "            price=list_of_contents[i].find('span',attrs={\"class\":\"s-item__price\"})\n",
    "            item_price.append(price.text)\n",
    "            print(\"Price: \"+(price.text))\n",
    "            num_item_price+=(re.findall(\".*\\\\$([0-9]*.[0-9]*).*\", str(item_price)))\n",
    "             \n",
    "            #Get shipping price of gift card    \n",
    "            shipping_price=list_of_contents[i].find('span',attrs={\"class\":\"s-item__shipping s-item__logisticsCost\"})\n",
    "            try:\n",
    "                if (re.findall(\".*\\\\$([0-9]*.[0-9]*).*\", shipping_price.text)):\n",
    "                    num_ship_price+=(re.findall(\".*\\\\$([0-9]*.[0-9]*).*\", shipping_price.text))\n",
    "                    print(\"Shipping price: \"+(shipping_price.text))\n",
    "                else:\n",
    "                    num_ship_price+='0'\n",
    "                    print(\"Shipping price: 0\")\n",
    "            except:\n",
    "                num_ship_price+='0'\n",
    "\n",
    "                "
   ]
  },
  {
   "cell_type": "code",
   "execution_count": null,
   "id": "08add99d",
   "metadata": {},
   "outputs": [],
   "source": [
    "#Collecting title price, item price and ship price\n",
    "\n",
    "title_price = [float(i) for i in title_price]\n",
    "num_ship_price = [float(i) for i in num_ship_price]\n",
    "num_item_price=[float(i) for i in num_item_price]\n",
    "\n"
   ]
  },
  {
   "cell_type": "code",
   "execution_count": null,
   "id": "2cf23291",
   "metadata": {
    "scrolled": true
   },
   "outputs": [],
   "source": [
    "#Find gift cards that are sold above face value\n",
    "#Comparing the values\n",
    "above_face_value=0\n",
    "flag=[]\n",
    "for i in range(0,600):\n",
    "    if  int(title_price[i])<(int(num_ship_price[i])+int(num_item_price[i])):\n",
    "        print(\"\\n\")\n",
    "        print(i)\n",
    "        print(\"Title: \"+(titles[i]))    \n",
    "        print(title_price[i])\n",
    "        print(\"Shipping cost: \"+str(num_ship_price[i]))\n",
    "        print(\"Item cost: \"+str(num_item_price[i]))\n",
    "        above_face_value+=1\n",
    "        flag.append(i)\n",
    "        \n",
    "        "
   ]
  },
  {
   "cell_type": "code",
   "execution_count": null,
   "id": "c96ecba9",
   "metadata": {},
   "outputs": [],
   "source": [
    "#Calculate percentage of gift cards that are sold above face value\n",
    "per=(above_face_value/600)*100\n",
    "print(\"The %age of cards sold above face value are:\",round(per,2))"
   ]
  },
  {
   "cell_type": "code",
   "execution_count": null,
   "id": "15b0db48",
   "metadata": {},
   "outputs": [],
   "source": []
  },
  {
   "cell_type": "code",
   "execution_count": null,
   "id": "826eb126",
   "metadata": {},
   "outputs": [],
   "source": []
  },
  {
   "cell_type": "code",
   "execution_count": null,
   "id": "442dbd75",
   "metadata": {},
   "outputs": [],
   "source": []
  },
  {
   "cell_type": "code",
   "execution_count": null,
   "id": "dcb67d19",
   "metadata": {},
   "outputs": [],
   "source": []
  }
 ],
 "metadata": {
  "kernelspec": {
   "display_name": "Python 3 (ipykernel)",
   "language": "python",
   "name": "python3"
  },
  "language_info": {
   "codemirror_mode": {
    "name": "ipython",
    "version": 3
   },
   "file_extension": ".py",
   "mimetype": "text/x-python",
   "name": "python",
   "nbconvert_exporter": "python",
   "pygments_lexer": "ipython3",
   "version": "3.9.12"
  }
 },
 "nbformat": 4,
 "nbformat_minor": 5
}
